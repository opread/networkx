{
 "cells": [
  {
   "cell_type": "code",
   "execution_count": null,
   "metadata": {},
   "outputs": [],
   "source": [
    "# load data\n",
    "# load nodes for enterprises\n",
    "# save attributes for enterprises\n",
    "# identify the legal entity and aliases\n",
    "# identify edges betw enterprises as count of documents exchanged"
   ]
  },
  {
   "cell_type": "code",
   "execution_count": 51,
   "metadata": {},
   "outputs": [],
   "source": [
    "import networkx as nx\n",
    "import numpy as np\n",
    "import matplotlib.pyplot as plt\n",
    "import pandas as pd\n",
    "\n",
    "# A directed graph class that can store multiedges.\n",
    "G = nx.MultiDiGraph()"
   ]
  },
  {
   "cell_type": "code",
   "execution_count": 52,
   "metadata": {},
   "outputs": [],
   "source": [
    "legal_entities = pd.DataFrame({'ID':[1,2,3,4,5,6], \n",
    "                   'Name':['A', 'H', 'J', 'U', 'E', 'F'], \n",
    "                   'Identifier': ['12345678', '12345679', '12345680', '12345681', '12345682', '12345683'],\n",
    "                   'Country': ['BE', 'BE', 'BE', 'BE', 'BE', 'BE']\n",
    "}) \n",
    "\n",
    "clients = pd.DataFrame({'ID': [42,23,43,4,5,6], \n",
    "                   'Name':['A', 'H', 'J', 'U', 'E', 'F'], \n",
    "                   'VAT': ['BE12345678', 'BE12345679', 'BE12345680', 'BE12345681', 'BE12345682', 'BE12345683'],\n",
    "                   'CBE': ['12345678', '12345679', '12345680', '12345681',  pd.np.nan,  pd.np.nan],\n",
    "                   'Street': ['SomeStr1','SomeStr2','SomeStr3','SomeStr4','SomeStr5','SomeStr6'],\n",
    "                   'City': ['Brussels','Brussels','Brussels','Brussels','Brussels','Brussels'],     \n",
    "                   'Country': ['BE', 'BE', 'BE', 'BE', 'BE', 'BE'],\n",
    "                   'Email': ['felix.revert@gmail.com', 'jean.durand@gmail.com', 'j.custom@gmail.com', pd.np.nan, 'j.custom@gmail.com', pd.np.nan]    \n",
    "})\n",
    "\n",
    "debtors = pd.DataFrame({'ID':[1,2,3,4,5,6], \n",
    "                   'Name':['A', 'B', 'C', 'U', 'E', 'F'], \n",
    "                   'Identifier': ['12345678', '12666679', '12567680', '12345681', '12345682', '12345682'],\n",
    "                   'Country': ['BE', 'BE', 'BE', 'BE', 'BE', 'BE']}) \n",
    "\n",
    "creditors = pd.DataFrame({'ID':[1,2,3,4,5,6], \n",
    "                   'Name':['A', 'X', 'Y', 'U', 'E', 'F'], \n",
    "                   'Identifier': ['12345678', '12345665', '12345443', '12345681', '12345682', '12345682'],\n",
    "                   'Country': ['BE', 'BE', 'BE', 'BE', 'BE', 'BE']}) "
   ]
  },
  {
   "cell_type": "code",
   "execution_count": 53,
   "metadata": {},
   "outputs": [
    {
     "data": {
      "text/html": [
       "<div>\n",
       "<style scoped>\n",
       "    .dataframe tbody tr th:only-of-type {\n",
       "        vertical-align: middle;\n",
       "    }\n",
       "\n",
       "    .dataframe tbody tr th {\n",
       "        vertical-align: top;\n",
       "    }\n",
       "\n",
       "    .dataframe thead th {\n",
       "        text-align: right;\n",
       "    }\n",
       "</style>\n",
       "<table border=\"1\" class=\"dataframe\">\n",
       "  <thead>\n",
       "    <tr style=\"text-align: right;\">\n",
       "      <th></th>\n",
       "      <th>Country</th>\n",
       "      <th>ID</th>\n",
       "      <th>Identifier</th>\n",
       "      <th>Name</th>\n",
       "      <th>LegalEntity</th>\n",
       "    </tr>\n",
       "  </thead>\n",
       "  <tbody>\n",
       "    <tr>\n",
       "      <th>0</th>\n",
       "      <td>BE</td>\n",
       "      <td>1</td>\n",
       "      <td>12345678</td>\n",
       "      <td>A</td>\n",
       "      <td>BE12345678</td>\n",
       "    </tr>\n",
       "    <tr>\n",
       "      <th>1</th>\n",
       "      <td>BE</td>\n",
       "      <td>2</td>\n",
       "      <td>12345679</td>\n",
       "      <td>H</td>\n",
       "      <td>BE12345679</td>\n",
       "    </tr>\n",
       "    <tr>\n",
       "      <th>2</th>\n",
       "      <td>BE</td>\n",
       "      <td>3</td>\n",
       "      <td>12345680</td>\n",
       "      <td>J</td>\n",
       "      <td>BE12345680</td>\n",
       "    </tr>\n",
       "    <tr>\n",
       "      <th>3</th>\n",
       "      <td>BE</td>\n",
       "      <td>4</td>\n",
       "      <td>12345681</td>\n",
       "      <td>U</td>\n",
       "      <td>BE12345681</td>\n",
       "    </tr>\n",
       "    <tr>\n",
       "      <th>4</th>\n",
       "      <td>BE</td>\n",
       "      <td>5</td>\n",
       "      <td>12345682</td>\n",
       "      <td>E</td>\n",
       "      <td>BE12345682</td>\n",
       "    </tr>\n",
       "    <tr>\n",
       "      <th>5</th>\n",
       "      <td>BE</td>\n",
       "      <td>6</td>\n",
       "      <td>12345683</td>\n",
       "      <td>F</td>\n",
       "      <td>BE12345683</td>\n",
       "    </tr>\n",
       "  </tbody>\n",
       "</table>\n",
       "</div>"
      ],
      "text/plain": [
       "  Country  ID Identifier Name LegalEntity\n",
       "0      BE   1   12345678    A  BE12345678\n",
       "1      BE   2   12345679    H  BE12345679\n",
       "2      BE   3   12345680    J  BE12345680\n",
       "3      BE   4   12345681    U  BE12345681\n",
       "4      BE   5   12345682    E  BE12345682\n",
       "5      BE   6   12345683    F  BE12345683"
      ]
     },
     "execution_count": 53,
     "metadata": {},
     "output_type": "execute_result"
    }
   ],
   "source": [
    "legal_entities['LegalEntity'] = legal_entities['Country'] + legal_entities['Identifier'] \n",
    "legal_entities"
   ]
  },
  {
   "cell_type": "code",
   "execution_count": 54,
   "metadata": {},
   "outputs": [],
   "source": [
    "#2 Identify Clients (enterprises) linked to legal_entities nodes using intersection - merge\n",
    "\n",
    "# clients[('LegalEntity'] = clients['Country'] + clients['CBE'] \n",
    "clients['LegalEntity'] = clients['Country'] + (clients['CBE'])"
   ]
  },
  {
   "cell_type": "code",
   "execution_count": 56,
   "metadata": {},
   "outputs": [
    {
     "data": {
      "text/html": [
       "<div>\n",
       "<style scoped>\n",
       "    .dataframe tbody tr th:only-of-type {\n",
       "        vertical-align: middle;\n",
       "    }\n",
       "\n",
       "    .dataframe tbody tr th {\n",
       "        vertical-align: top;\n",
       "    }\n",
       "\n",
       "    .dataframe thead th {\n",
       "        text-align: right;\n",
       "    }\n",
       "</style>\n",
       "<table border=\"1\" class=\"dataframe\">\n",
       "  <thead>\n",
       "    <tr style=\"text-align: right;\">\n",
       "      <th></th>\n",
       "      <th>CBE</th>\n",
       "      <th>City</th>\n",
       "      <th>Country</th>\n",
       "      <th>Email</th>\n",
       "      <th>ID</th>\n",
       "      <th>Name</th>\n",
       "      <th>Street</th>\n",
       "      <th>VAT</th>\n",
       "      <th>LegalEntity</th>\n",
       "    </tr>\n",
       "  </thead>\n",
       "  <tbody>\n",
       "    <tr>\n",
       "      <th>0</th>\n",
       "      <td>12345678</td>\n",
       "      <td>Brussels</td>\n",
       "      <td>BE</td>\n",
       "      <td>felix.revert@gmail.com</td>\n",
       "      <td>42</td>\n",
       "      <td>A</td>\n",
       "      <td>SomeStr1</td>\n",
       "      <td>BE12345678</td>\n",
       "      <td>BE12345678</td>\n",
       "    </tr>\n",
       "    <tr>\n",
       "      <th>1</th>\n",
       "      <td>12345679</td>\n",
       "      <td>Brussels</td>\n",
       "      <td>BE</td>\n",
       "      <td>jean.durand@gmail.com</td>\n",
       "      <td>23</td>\n",
       "      <td>H</td>\n",
       "      <td>SomeStr2</td>\n",
       "      <td>BE12345679</td>\n",
       "      <td>BE12345679</td>\n",
       "    </tr>\n",
       "    <tr>\n",
       "      <th>2</th>\n",
       "      <td>12345680</td>\n",
       "      <td>Brussels</td>\n",
       "      <td>BE</td>\n",
       "      <td>j.custom@gmail.com</td>\n",
       "      <td>43</td>\n",
       "      <td>J</td>\n",
       "      <td>SomeStr3</td>\n",
       "      <td>BE12345680</td>\n",
       "      <td>BE12345680</td>\n",
       "    </tr>\n",
       "    <tr>\n",
       "      <th>3</th>\n",
       "      <td>12345681</td>\n",
       "      <td>Brussels</td>\n",
       "      <td>BE</td>\n",
       "      <td>NaN</td>\n",
       "      <td>4</td>\n",
       "      <td>U</td>\n",
       "      <td>SomeStr4</td>\n",
       "      <td>BE12345681</td>\n",
       "      <td>BE12345681</td>\n",
       "    </tr>\n",
       "    <tr>\n",
       "      <th>4</th>\n",
       "      <td>NaN</td>\n",
       "      <td>Brussels</td>\n",
       "      <td>BE</td>\n",
       "      <td>j.custom@gmail.com</td>\n",
       "      <td>5</td>\n",
       "      <td>E</td>\n",
       "      <td>SomeStr5</td>\n",
       "      <td>BE12345682</td>\n",
       "      <td>BE12345682</td>\n",
       "    </tr>\n",
       "    <tr>\n",
       "      <th>5</th>\n",
       "      <td>NaN</td>\n",
       "      <td>Brussels</td>\n",
       "      <td>BE</td>\n",
       "      <td>NaN</td>\n",
       "      <td>6</td>\n",
       "      <td>F</td>\n",
       "      <td>SomeStr6</td>\n",
       "      <td>BE12345683</td>\n",
       "      <td>BE12345683</td>\n",
       "    </tr>\n",
       "  </tbody>\n",
       "</table>\n",
       "</div>"
      ],
      "text/plain": [
       "        CBE      City Country                   Email  ID Name    Street  \\\n",
       "0  12345678  Brussels      BE  felix.revert@gmail.com  42    A  SomeStr1   \n",
       "1  12345679  Brussels      BE   jean.durand@gmail.com  23    H  SomeStr2   \n",
       "2  12345680  Brussels      BE      j.custom@gmail.com  43    J  SomeStr3   \n",
       "3  12345681  Brussels      BE                     NaN   4    U  SomeStr4   \n",
       "4       NaN  Brussels      BE      j.custom@gmail.com   5    E  SomeStr5   \n",
       "5       NaN  Brussels      BE                     NaN   6    F  SomeStr6   \n",
       "\n",
       "          VAT LegalEntity  \n",
       "0  BE12345678  BE12345678  \n",
       "1  BE12345679  BE12345679  \n",
       "2  BE12345680  BE12345680  \n",
       "3  BE12345681  BE12345681  \n",
       "4  BE12345682  BE12345682  \n",
       "5  BE12345683  BE12345683  "
      ]
     },
     "execution_count": 56,
     "metadata": {},
     "output_type": "execute_result"
    }
   ],
   "source": [
    "## fill in LegalEntity from BE VAT\n",
    "idx = clients[(clients['LegalEntity'].isnull()) & (clients['Country']=='BE') & (clients['VAT'].notnull())].index\n",
    "clients.at[idx,'LegalEntity'] = clients.loc[idx]['VAT']\n",
    "clients"
   ]
  },
  {
   "cell_type": "code",
   "execution_count": 59,
   "metadata": {},
   "outputs": [
    {
     "data": {
      "text/plain": [
       "{}"
      ]
     },
     "execution_count": 59,
     "metadata": {},
     "output_type": "execute_result"
    }
   ],
   "source": [
    "#1 add legal_entities as nodes\n",
    "G.add_nodes_from(legal_entities['LegalEntity'], )\n",
    "# add legal entity attributes\n",
    "# Identifier_Type, Node_Type\n",
    "\n",
    "node_attr = pd.DataFrame(legal_entities).set_index('LegalEntity')\n",
    "node_attr['Node_Type']='LegalEntity'\n",
    "nx.set_node_attributes(G, node_attr)\n",
    "\n",
    "\n",
    "# add enterprises nodes\n",
    "#G = nx.from_pandas_edgelist(df=enterprises, source='ID', target='ID_2', edge_attr='Identifier0')\n",
    "#list(G.nodes)\n",
    "list(G.nodes(data=True))\n",
    "G.nodes['BE12345679']\n"
   ]
  },
  {
   "cell_type": "code",
   "execution_count": 60,
   "metadata": {},
   "outputs": [
    {
     "data": {
      "text/plain": [
       "{}"
      ]
     },
     "execution_count": 60,
     "metadata": {},
     "output_type": "execute_result"
    }
   ],
   "source": [
    "nx.get_node_attributes(G,'Node_Type')"
   ]
  },
  {
   "cell_type": "code",
   "execution_count": null,
   "metadata": {},
   "outputs": [],
   "source": [
    "list(G.nodes(data=True))"
   ]
  },
  {
   "cell_type": "code",
   "execution_count": null,
   "metadata": {},
   "outputs": [],
   "source": [
    "clients.filter(regex='Identifier').columns"
   ]
  },
  {
   "cell_type": "code",
   "execution_count": null,
   "metadata": {},
   "outputs": [],
   "source": [
    "list1 =list(pd.Series(columns).index)\n",
    "str1 = ''.join(str(e) for e in list1)\n",
    "str1"
   ]
  },
  {
   "cell_type": "code",
   "execution_count": null,
   "metadata": {},
   "outputs": [],
   "source": [
    "clients[('Identifier'+ str(columns.index(column)))] = 2"
   ]
  },
  {
   "cell_type": "code",
   "execution_count": null,
   "metadata": {},
   "outputs": [],
   "source": [
    "len(clients[column])"
   ]
  },
  {
   "cell_type": "code",
   "execution_count": null,
   "metadata": {},
   "outputs": [],
   "source": []
  }
 ],
 "metadata": {
  "kernelspec": {
   "display_name": "Python 3",
   "language": "python",
   "name": "python3"
  },
  "language_info": {
   "codemirror_mode": {
    "name": "ipython",
    "version": 3
   },
   "file_extension": ".py",
   "mimetype": "text/x-python",
   "name": "python",
   "nbconvert_exporter": "python",
   "pygments_lexer": "ipython3",
   "version": "3.6.4"
  }
 },
 "nbformat": 4,
 "nbformat_minor": 2
}
