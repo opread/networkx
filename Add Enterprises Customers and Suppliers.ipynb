{
 "cells": [
  {
   "cell_type": "code",
   "execution_count": 1,
   "metadata": {},
   "outputs": [],
   "source": [
    "import networkx as nx\n",
    "import numpy as np\n",
    "import matplotlib.pyplot as plt\n",
    "import pandas as pd\n",
    "\n",
    "G = nx.DiGraph()"
   ]
  },
  {
   "cell_type": "code",
   "execution_count": 2,
   "metadata": {},
   "outputs": [],
   "source": [
    "legal_entities = pd.DataFrame({'ID':[1,2,3,4,5,6], \n",
    "                   'Name':['A', 'H', 'J', 'U', 'E', 'F'], \n",
    "                   'Identifier': ['12345678', '12345679', '12345680', '12345681', '12345682', '12345682'],\n",
    "                   'Country': ['BE', 'BE', 'BE', 'BE', 'BE', 'BE']\n",
    "}) \n",
    "\n",
    "companies = pd.DataFrame({'ID':[1,2,3,4,5,6], \n",
    "                   'Name':['A', 'B', 'C', 'D', 'E', 'F'], \n",
    "                   'VAT': ['BE12345678', 'BE12345679', 'BE12345680', 'BE12345681', 'BE12345682', 'BE12345682'],\n",
    "                   'CBE': ['12345678', '12345679', '12345680', '12345681', '12345682', '12345682'],\n",
    "                   'Country': ['BE', 'BE', 'BE', 'BE', 'BE', 'BE'],\n",
    "                   'Email': ['felix.revert@gmail.com', 'jean.durand@gmail.com', 'j.custom@gmail.com', pd.np.nan, 'j.custom@gmail.com', pd.np.nan],\n",
    "                   'Source':['Enterprise', 'Supplier', 'Customer', 'Eenterprise', 'Eenterprise', 'Customer']                  \n",
    "}) "
   ]
  },
  {
   "cell_type": "code",
   "execution_count": 34,
   "metadata": {},
   "outputs": [],
   "source": [
    "# add legal_entities as nodes\n",
    "G.add_nodes_from(legal_entities['Identifier'])\n",
    "node_attr = legal_entities.set_index('Identifier').to_dict('index')\n",
    "nx.set_node_attributes(G, node_attr)\n",
    "#nx.set_node_attributes(G, 'Name', pd.Series(legal_entities['Name']).to_dict())\n"
   ]
  },
  {
   "cell_type": "code",
   "execution_count": 35,
   "metadata": {},
   "outputs": [
    {
     "data": {
      "text/plain": [
       "[('12345678', {'Country': 'BE', 'ID': 1, 'Name': 'A'}),\n",
       " ('12345679', {'Country': 'BE', 'ID': 2, 'Name': 'H'}),\n",
       " ('12345680', {'Country': 'BE', 'ID': 3, 'Name': 'J'}),\n",
       " ('12345681', {'Country': 'BE', 'ID': 4, 'Name': 'U'}),\n",
       " ('12345682', {'Country': 'BE', 'ID': 6, 'Name': 'F'})]"
      ]
     },
     "execution_count": 35,
     "metadata": {},
     "output_type": "execute_result"
    }
   ],
   "source": [
    "#list(G.nodes)\n",
    "list(G.nodes(data=True))"
   ]
  },
  {
   "cell_type": "code",
   "execution_count": null,
   "metadata": {},
   "outputs": [],
   "source": []
  }
 ],
 "metadata": {
  "kernelspec": {
   "display_name": "Python 3",
   "language": "python",
   "name": "python3"
  },
  "language_info": {
   "codemirror_mode": {
    "name": "ipython",
    "version": 3
   },
   "file_extension": ".py",
   "mimetype": "text/x-python",
   "name": "python",
   "nbconvert_exporter": "python",
   "pygments_lexer": "ipython3",
   "version": "3.6.4"
  }
 },
 "nbformat": 4,
 "nbformat_minor": 2
}
